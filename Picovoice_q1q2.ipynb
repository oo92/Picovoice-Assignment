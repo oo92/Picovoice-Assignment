{
  "nbformat": 4,
  "nbformat_minor": 0,
  "metadata": {
    "colab": {
      "provenance": []
    },
    "kernelspec": {
      "name": "python3",
      "display_name": "Python 3"
    },
    "language_info": {
      "name": "python"
    }
  },
  "cells": [
    {
      "cell_type": "markdown",
      "source": [
        "**Q1 [Python**] The probability of rain on a given calendar day in Vancouver is **p[i]**, where i is the day's index. For example, **p[0]** is the probability of rain on January 1st, and **p[10]** is the probability of precipitation on January 11th. Assume the year has 365 days (i.e. p has 365 elements). What is the chance it rains more than n (e.g. 100) days in Vancouver? Write a function that accepts p (probabilities of rain on a given calendar day) and n as input arguments and returns the possibility of raining at least n days. "
      ],
      "metadata": {
        "id": "I-6PSV-N5Kpl"
      }
    },
    {
      "cell_type": "code",
      "execution_count": 16,
      "metadata": {
        "colab": {
          "base_uri": "https://localhost:8080/"
        },
        "id": "jrdN6QAv42LI",
        "outputId": "ece36132-1c6a-4a37-cc85-3035fa78d108"
      },
      "outputs": [
        {
          "output_type": "stream",
          "name": "stdout",
          "text": [
            "The probability of it raining more than 100 days is: 0.5118404653\n"
          ]
        }
      ],
      "source": [
        "import random\n",
        "import math\n",
        "from scipy.special import logsumexp\n",
        "from typing import Sequence\n",
        "\n",
        "def prob_rain_more_than_n(p: Sequence[float], n: int) -> float:\n",
        "    if len(p) != 365:\n",
        "        raise ValueError(\"The length of p should be 365.\")\n",
        "\n",
        "    if n < 0 or n > 365:\n",
        "        raise ValueError(\"n should be between 0 and 365.\")\n",
        "\n",
        "    q = [1.0 - prob for prob in p]  # Probability of no rain on each day\n",
        "\n",
        "    log_prob = math.log(p[0])\n",
        "    log_q = math.log(q[0])\n",
        "\n",
        "    for i in range(1, n):\n",
        "        log_prob = logsumexp([log_prob + math.log(p[i]), log_q + math.log(p[i])])\n",
        "\n",
        "    return math.exp(log_prob)\n",
        "\n",
        "daily_probabilities = [random.uniform(0.1, 0.9) for _ in range(365)]  # Example daily probabilities\n",
        "threshold = 100\n",
        "\n",
        "if len(daily_probabilities) < 365:\n",
        "    # Extend the daily probabilities by repeating the last value\n",
        "    last_value = daily_probabilities[-1]\n",
        "    daily_probabilities.extend([last_value] * (365 - len(daily_probabilities)))\n",
        "elif len(daily_probabilities) > 365:\n",
        "    # Truncate the daily probabilities to 365 values\n",
        "    daily_probabilities = daily_probabilities[:365]\n",
        "\n",
        "probability = prob_rain_more_than_n(daily_probabilities, threshold)\n",
        "print(f\"The probability of it raining more than {threshold} days is: {probability:.10f}\")\n"
      ]
    },
    {
      "cell_type": "markdown",
      "source": [
        "**Q2 [Python]** A phoneme is a sound unit (similar to a character for text). We have an extensive pronunciation dictionary (think millions of words). Below is a snippet: \n",
        "\n",
        "*   ABACUS AE B AH K AH S \n",
        "*   BOOK B UH K \n",
        "*   THEIR DH EH R \n",
        "*   THERE DH EH R \n",
        "*   TOMATO T AH M AA T OW \n",
        "*   TOMATO T AH M EY T OW \n",
        "\n",
        "Given a sequence of phonemes as input (e.g. **[\"DH\", \"EH\", \"R\", \"DH\", \"EH\", \"R\"]**), find all the combinations of the words that can produce this sequence (e.g. **[[\"THEIR\", \"THEIR\"], [\"THEIR\", \"THERE\"], [\"THERE\", \"THEIR\"], [\"THERE\", \"THERE\"]]**). You can preprocess the dictionary into a different data structure if needed. "
      ],
      "metadata": {
        "id": "I3OjTncx8Je6"
      }
    },
    {
      "cell_type": "code",
      "source": [
        "from typing import Sequence\n",
        "\n",
        "def preprocess_pronunciation_dict(pronunciation_dict):\n",
        "    processed_dict = {}\n",
        "    for word_phonemes in pronunciation_dict:\n",
        "        word, *phonemes = word_phonemes.split()\n",
        "        phonemes = tuple(phonemes)\n",
        "        if phonemes in processed_dict:\n",
        "            processed_dict[phonemes].append(word)\n",
        "        else:\n",
        "            processed_dict[phonemes] = [word]\n",
        "    return processed_dict\n",
        "\n",
        "def find_word_combos_with_pronunciation(phonemes: Sequence[str]) -> Sequence[Sequence[str]]:\n",
        "    pronunciation_dict = [\n",
        "        \"ABACUS AE B AH K AH S\",\n",
        "        \"BOOK B UH K\",\n",
        "        \"THEIR DH EH R\",\n",
        "        \"THERE DH EH R\",\n",
        "        \"TOMATO T AH M AA T OW\",\n",
        "        \"TOMATO T AH M EY T OW\"\n",
        "    ]\n",
        "\n",
        "    processed_dict = preprocess_pronunciation_dict(pronunciation_dict)\n",
        "    n = len(phonemes)\n",
        "\n",
        "    def backtrack(index):\n",
        "        if index == n:\n",
        "            return [[]]\n",
        "        combos = []\n",
        "        for i in range(index, n):\n",
        "            curr_phonemes = tuple(phonemes[index : i + 1])\n",
        "            if curr_phonemes in processed_dict:\n",
        "                for word in processed_dict[curr_phonemes]:\n",
        "                    remaining_combos = backtrack(i + 1)\n",
        "                    if remaining_combos is not None:\n",
        "                        for combo in remaining_combos:\n",
        "                            combos.append([word] + combo)\n",
        "        return combos if combos else None\n",
        "\n",
        "    return backtrack(0)\n",
        "\n",
        "phonemes = [\"DH\", \"EH\", \"R\", \"DH\", \"EH\", \"R\"]\n",
        "combos = find_word_combos_with_pronunciation(phonemes)\n",
        "print(combos)\n"
      ],
      "metadata": {
        "colab": {
          "base_uri": "https://localhost:8080/"
        },
        "id": "KDBIlgKF63aG",
        "outputId": "93e04a57-7572-41df-d785-a5e018066e30"
      },
      "execution_count": 20,
      "outputs": [
        {
          "output_type": "stream",
          "name": "stdout",
          "text": [
            "[['THEIR', 'THEIR'], ['THEIR', 'THERE'], ['THERE', 'THEIR'], ['THERE', 'THERE']]\n"
          ]
        }
      ]
    },
    {
      "cell_type": "markdown",
      "source": [
        "**Q3 [C]** Find the **n** most frequent words in the TensorFlow Shakespeare dataset. \n"
      ],
      "metadata": {
        "id": "QhJwgjVC9S0C"
      }
    },
    {
      "cell_type": "code",
      "source": [],
      "metadata": {
        "id": "fCqXGgVZ8jYa"
      },
      "execution_count": null,
      "outputs": []
    }
  ]
}